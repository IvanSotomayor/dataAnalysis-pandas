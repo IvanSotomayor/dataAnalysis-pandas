{
 "cells": [
  {
   "cell_type": "markdown",
   "metadata": {},
   "source": [
    "# TC1002S Herramientas computacionales: el arte de la analítica\n",
    "\n",
    "This is a notebook with all your work for the final evidence of this course\n",
    "\n",
    "\n",
    "# Niveles de dominio a demostrar con la evidencia\n",
    "\n",
    "### SING0202A\n",
    "\n",
    "Interpreta interacciones entre variables relevantes en un problema, como base para la construcción de modelos bivariados basados en datos de un fenómeno investigado que le permita reproducir la respuesta del mismo. Es capaz de construir modelos bivariados que expliquen el comportamiento de un fenómeno.\n",
    "\n",
    "\n",
    "# Student information\n",
    "\n",
    "- Name:  Iván Ortega Sotomayor\n",
    "\n",
    "- ID: A01383282\n",
    "\n",
    "- My carreer: Ingeniero en Tecnologias Computacionales\n"
   ]
  },
  {
   "cell_type": "markdown",
   "metadata": {},
   "source": [
    "# Importing libraries"
   ]
  },
  {
   "cell_type": "code",
   "execution_count": 6,
   "metadata": {},
   "outputs": [],
   "source": [
    "# Import the packages that we will be using\n",
    "import pandas as pd                 # For data handling\n",
    "import seaborn as sns               # For advanced plotting\n",
    "import matplotlib.pyplot as plt     # For showing plots"
   ]
  },
  {
   "cell_type": "markdown",
   "metadata": {},
   "source": [
    "# A1 Load data"
   ]
  },
  {
   "cell_type": "code",
   "execution_count": 7,
   "metadata": {},
   "outputs": [],
   "source": [
    "ruta = \"datasets/evidencia/A01383282.csv\"\n",
    "df = pd.read_csv(ruta)"
   ]
  },
  {
   "cell_type": "markdown",
   "metadata": {},
   "source": [
    "# A2 Data managment\n"
   ]
  },
  {
   "cell_type": "markdown",
   "metadata": {},
   "source": [
    "Print the first 7 rows"
   ]
  },
  {
   "cell_type": "code",
   "execution_count": 8,
   "metadata": {},
   "outputs": [
    {
     "data": {
      "text/html": [
       "<div>\n",
       "<style scoped>\n",
       "    .dataframe tbody tr th:only-of-type {\n",
       "        vertical-align: middle;\n",
       "    }\n",
       "\n",
       "    .dataframe tbody tr th {\n",
       "        vertical-align: top;\n",
       "    }\n",
       "\n",
       "    .dataframe thead th {\n",
       "        text-align: right;\n",
       "    }\n",
       "</style>\n",
       "<table border=\"1\" class=\"dataframe\">\n",
       "  <thead>\n",
       "    <tr style=\"text-align: right;\">\n",
       "      <th></th>\n",
       "      <th>Unnamed: 0</th>\n",
       "      <th>x1</th>\n",
       "      <th>x2</th>\n",
       "      <th>x3</th>\n",
       "      <th>x4</th>\n",
       "      <th>x5</th>\n",
       "    </tr>\n",
       "  </thead>\n",
       "  <tbody>\n",
       "    <tr>\n",
       "      <th>0</th>\n",
       "      <td>0</td>\n",
       "      <td>-6.152888</td>\n",
       "      <td>-2.093323</td>\n",
       "      <td>8.098046</td>\n",
       "      <td>-2.521610</td>\n",
       "      <td>5.232941</td>\n",
       "    </tr>\n",
       "    <tr>\n",
       "      <th>1</th>\n",
       "      <td>1</td>\n",
       "      <td>-1.370034</td>\n",
       "      <td>0.139201</td>\n",
       "      <td>-9.555028</td>\n",
       "      <td>4.030082</td>\n",
       "      <td>-8.250046</td>\n",
       "    </tr>\n",
       "    <tr>\n",
       "      <th>2</th>\n",
       "      <td>2</td>\n",
       "      <td>-9.371128</td>\n",
       "      <td>-1.980942</td>\n",
       "      <td>6.024231</td>\n",
       "      <td>-4.609001</td>\n",
       "      <td>5.646548</td>\n",
       "    </tr>\n",
       "    <tr>\n",
       "      <th>3</th>\n",
       "      <td>3</td>\n",
       "      <td>-5.885847</td>\n",
       "      <td>-0.049860</td>\n",
       "      <td>6.454661</td>\n",
       "      <td>-5.830751</td>\n",
       "      <td>0.748863</td>\n",
       "    </tr>\n",
       "    <tr>\n",
       "      <th>4</th>\n",
       "      <td>4</td>\n",
       "      <td>-3.134266</td>\n",
       "      <td>-3.060129</td>\n",
       "      <td>-7.498586</td>\n",
       "      <td>3.681397</td>\n",
       "      <td>-9.532923</td>\n",
       "    </tr>\n",
       "    <tr>\n",
       "      <th>5</th>\n",
       "      <td>5</td>\n",
       "      <td>3.735709</td>\n",
       "      <td>-3.282531</td>\n",
       "      <td>1.981877</td>\n",
       "      <td>1.415375</td>\n",
       "      <td>-3.110171</td>\n",
       "    </tr>\n",
       "    <tr>\n",
       "      <th>6</th>\n",
       "      <td>6</td>\n",
       "      <td>3.530277</td>\n",
       "      <td>-4.024919</td>\n",
       "      <td>4.812090</td>\n",
       "      <td>7.161241</td>\n",
       "      <td>-2.045074</td>\n",
       "    </tr>\n",
       "  </tbody>\n",
       "</table>\n",
       "</div>"
      ],
      "text/plain": [
       "   Unnamed: 0        x1        x2        x3        x4        x5\n",
       "0           0 -6.152888 -2.093323  8.098046 -2.521610  5.232941\n",
       "1           1 -1.370034  0.139201 -9.555028  4.030082 -8.250046\n",
       "2           2 -9.371128 -1.980942  6.024231 -4.609001  5.646548\n",
       "3           3 -5.885847 -0.049860  6.454661 -5.830751  0.748863\n",
       "4           4 -3.134266 -3.060129 -7.498586  3.681397 -9.532923\n",
       "5           5  3.735709 -3.282531  1.981877  1.415375 -3.110171\n",
       "6           6  3.530277 -4.024919  4.812090  7.161241 -2.045074"
      ]
     },
     "execution_count": 8,
     "metadata": {},
     "output_type": "execute_result"
    }
   ],
   "source": [
    "df.head(7)"
   ]
  },
  {
   "cell_type": "markdown",
   "metadata": {},
   "source": [
    "Print the first 4 last rows"
   ]
  },
  {
   "cell_type": "code",
   "execution_count": 9,
   "metadata": {},
   "outputs": [
    {
     "data": {
      "text/html": [
       "<div>\n",
       "<style scoped>\n",
       "    .dataframe tbody tr th:only-of-type {\n",
       "        vertical-align: middle;\n",
       "    }\n",
       "\n",
       "    .dataframe tbody tr th {\n",
       "        vertical-align: top;\n",
       "    }\n",
       "\n",
       "    .dataframe thead th {\n",
       "        text-align: right;\n",
       "    }\n",
       "</style>\n",
       "<table border=\"1\" class=\"dataframe\">\n",
       "  <thead>\n",
       "    <tr style=\"text-align: right;\">\n",
       "      <th></th>\n",
       "      <th>Unnamed: 0</th>\n",
       "      <th>x1</th>\n",
       "      <th>x2</th>\n",
       "      <th>x3</th>\n",
       "      <th>x4</th>\n",
       "      <th>x5</th>\n",
       "    </tr>\n",
       "  </thead>\n",
       "  <tbody>\n",
       "    <tr>\n",
       "      <th>278</th>\n",
       "      <td>278</td>\n",
       "      <td>-0.877046</td>\n",
       "      <td>-0.311313</td>\n",
       "      <td>-11.797155</td>\n",
       "      <td>5.241113</td>\n",
       "      <td>-8.757490</td>\n",
       "    </tr>\n",
       "    <tr>\n",
       "      <th>279</th>\n",
       "      <td>279</td>\n",
       "      <td>6.847237</td>\n",
       "      <td>-4.702272</td>\n",
       "      <td>3.577630</td>\n",
       "      <td>4.157979</td>\n",
       "      <td>-3.962793</td>\n",
       "    </tr>\n",
       "    <tr>\n",
       "      <th>280</th>\n",
       "      <td>280</td>\n",
       "      <td>5.634250</td>\n",
       "      <td>-3.502860</td>\n",
       "      <td>3.107812</td>\n",
       "      <td>3.987307</td>\n",
       "      <td>-4.449223</td>\n",
       "    </tr>\n",
       "    <tr>\n",
       "      <th>281</th>\n",
       "      <td>281</td>\n",
       "      <td>-7.070032</td>\n",
       "      <td>-1.918798</td>\n",
       "      <td>4.520942</td>\n",
       "      <td>-4.784511</td>\n",
       "      <td>1.027208</td>\n",
       "    </tr>\n",
       "  </tbody>\n",
       "</table>\n",
       "</div>"
      ],
      "text/plain": [
       "     Unnamed: 0        x1        x2         x3        x4        x5\n",
       "278         278 -0.877046 -0.311313 -11.797155  5.241113 -8.757490\n",
       "279         279  6.847237 -4.702272   3.577630  4.157979 -3.962793\n",
       "280         280  5.634250 -3.502860   3.107812  3.987307 -4.449223\n",
       "281         281 -7.070032 -1.918798   4.520942 -4.784511  1.027208"
      ]
     },
     "execution_count": 9,
     "metadata": {},
     "output_type": "execute_result"
    }
   ],
   "source": [
    "df.tail(4)"
   ]
  },
  {
   "cell_type": "markdown",
   "metadata": {},
   "source": [
    "How many rows and columns are in your data?\n",
    "\n",
    "Use the `shape` method\n"
   ]
  },
  {
   "cell_type": "code",
   "execution_count": 10,
   "metadata": {},
   "outputs": [
    {
     "name": "stdout",
     "output_type": "stream",
     "text": [
      "282\n"
     ]
    }
   ],
   "source": [
    "Nr,Nc = df.shape\n",
    "#Number of rows\n",
    "print(Nr)"
   ]
  },
  {
   "cell_type": "markdown",
   "metadata": {},
   "source": [
    "Print the name of all columns \n",
    "\n",
    "Use the `columns` method"
   ]
  },
  {
   "cell_type": "code",
   "execution_count": 8,
   "metadata": {},
   "outputs": [
    {
     "name": "stdout",
     "output_type": "stream",
     "text": [
      "6\n"
     ]
    }
   ],
   "source": [
    "#Number of columns\n",
    "print(Nc)"
   ]
  },
  {
   "cell_type": "markdown",
   "metadata": {},
   "source": [
    "What is the data type in each column\n",
    "\n",
    "Use the `dtypes` method "
   ]
  },
  {
   "cell_type": "code",
   "execution_count": 11,
   "metadata": {},
   "outputs": [
    {
     "data": {
      "text/plain": [
       "Unnamed: 0      int64\n",
       "x1            float64\n",
       "x2            float64\n",
       "x3            float64\n",
       "x4            float64\n",
       "x5            float64\n",
       "dtype: object"
      ]
     },
     "execution_count": 11,
     "metadata": {},
     "output_type": "execute_result"
    }
   ],
   "source": [
    "df.dtypes"
   ]
  },
  {
   "cell_type": "markdown",
   "metadata": {},
   "source": [
    "What is the meaning of rows and columns?"
   ]
  },
  {
   "cell_type": "code",
   "execution_count": 1,
   "metadata": {},
   "outputs": [],
   "source": [
    "# Your responses here\n",
    "\n",
    "# 1) The meaning of rows are number of registers\n",
    "\n",
    "# 2) The meaning of columns are variables"
   ]
  },
  {
   "cell_type": "markdown",
   "metadata": {},
   "source": [
    "Print a statistical summary of your columns\n"
   ]
  },
  {
   "cell_type": "code",
   "execution_count": 12,
   "metadata": {},
   "outputs": [
    {
     "data": {
      "text/html": [
       "<div>\n",
       "<style scoped>\n",
       "    .dataframe tbody tr th:only-of-type {\n",
       "        vertical-align: middle;\n",
       "    }\n",
       "\n",
       "    .dataframe tbody tr th {\n",
       "        vertical-align: top;\n",
       "    }\n",
       "\n",
       "    .dataframe thead th {\n",
       "        text-align: right;\n",
       "    }\n",
       "</style>\n",
       "<table border=\"1\" class=\"dataframe\">\n",
       "  <thead>\n",
       "    <tr style=\"text-align: right;\">\n",
       "      <th></th>\n",
       "      <th>Unnamed: 0</th>\n",
       "      <th>x1</th>\n",
       "      <th>x2</th>\n",
       "      <th>x3</th>\n",
       "      <th>x4</th>\n",
       "      <th>x5</th>\n",
       "    </tr>\n",
       "  </thead>\n",
       "  <tbody>\n",
       "    <tr>\n",
       "      <th>count</th>\n",
       "      <td>282.000000</td>\n",
       "      <td>282.000000</td>\n",
       "      <td>282.000000</td>\n",
       "      <td>282.000000</td>\n",
       "      <td>282.000000</td>\n",
       "      <td>282.000000</td>\n",
       "    </tr>\n",
       "    <tr>\n",
       "      <th>mean</th>\n",
       "      <td>140.500000</td>\n",
       "      <td>-1.145424</td>\n",
       "      <td>-1.844651</td>\n",
       "      <td>-0.056483</td>\n",
       "      <td>1.569804</td>\n",
       "      <td>-3.203351</td>\n",
       "    </tr>\n",
       "    <tr>\n",
       "      <th>std</th>\n",
       "      <td>81.550598</td>\n",
       "      <td>5.146445</td>\n",
       "      <td>2.672142</td>\n",
       "      <td>6.579890</td>\n",
       "      <td>4.065263</td>\n",
       "      <td>5.270699</td>\n",
       "    </tr>\n",
       "    <tr>\n",
       "      <th>min</th>\n",
       "      <td>0.000000</td>\n",
       "      <td>-11.082508</td>\n",
       "      <td>-7.747425</td>\n",
       "      <td>-13.409442</td>\n",
       "      <td>-6.487235</td>\n",
       "      <td>-12.787562</td>\n",
       "    </tr>\n",
       "    <tr>\n",
       "      <th>25%</th>\n",
       "      <td>70.250000</td>\n",
       "      <td>-5.586741</td>\n",
       "      <td>-3.899259</td>\n",
       "      <td>-8.267287</td>\n",
       "      <td>-2.751305</td>\n",
       "      <td>-7.743645</td>\n",
       "    </tr>\n",
       "    <tr>\n",
       "      <th>50%</th>\n",
       "      <td>140.500000</td>\n",
       "      <td>-1.960049</td>\n",
       "      <td>-2.147778</td>\n",
       "      <td>3.570971</td>\n",
       "      <td>3.049842</td>\n",
       "      <td>-4.529351</td>\n",
       "    </tr>\n",
       "    <tr>\n",
       "      <th>75%</th>\n",
       "      <td>210.750000</td>\n",
       "      <td>4.133231</td>\n",
       "      <td>0.169195</td>\n",
       "      <td>4.858645</td>\n",
       "      <td>4.709415</td>\n",
       "      <td>2.178987</td>\n",
       "    </tr>\n",
       "    <tr>\n",
       "      <th>max</th>\n",
       "      <td>281.000000</td>\n",
       "      <td>8.282685</td>\n",
       "      <td>5.933739</td>\n",
       "      <td>8.098046</td>\n",
       "      <td>8.703999</td>\n",
       "      <td>7.099087</td>\n",
       "    </tr>\n",
       "  </tbody>\n",
       "</table>\n",
       "</div>"
      ],
      "text/plain": [
       "       Unnamed: 0          x1          x2          x3          x4          x5\n",
       "count  282.000000  282.000000  282.000000  282.000000  282.000000  282.000000\n",
       "mean   140.500000   -1.145424   -1.844651   -0.056483    1.569804   -3.203351\n",
       "std     81.550598    5.146445    2.672142    6.579890    4.065263    5.270699\n",
       "min      0.000000  -11.082508   -7.747425  -13.409442   -6.487235  -12.787562\n",
       "25%     70.250000   -5.586741   -3.899259   -8.267287   -2.751305   -7.743645\n",
       "50%    140.500000   -1.960049   -2.147778    3.570971    3.049842   -4.529351\n",
       "75%    210.750000    4.133231    0.169195    4.858645    4.709415    2.178987\n",
       "max    281.000000    8.282685    5.933739    8.098046    8.703999    7.099087"
      ]
     },
     "execution_count": 12,
     "metadata": {},
     "output_type": "execute_result"
    }
   ],
   "source": [
    "df.describe()"
   ]
  },
  {
   "cell_type": "code",
   "execution_count": 17,
   "metadata": {},
   "outputs": [
    {
     "data": {
      "text/plain": [
       "Unnamed: 0     0.000000\n",
       "x1           -11.082508\n",
       "x2            -7.747425\n",
       "x3           -13.409442\n",
       "x4            -6.487235\n",
       "x5           -12.787562\n",
       "dtype: float64"
      ]
     },
     "execution_count": 17,
     "metadata": {},
     "output_type": "execute_result"
    }
   ],
   "source": [
    "# 1) What is the minumum and maximum values of each variable\n",
    "# -11.082508\t-7.747425\t-13.409442\t-6.487235\t-12.787562   (x1 to x5 respectively)\n",
    "# 2) What is the mean and standar deviation of each variable\n",
    "# mean:140.500000\t-1.145424\t-1.844651\t-0.056483\t1.569804\t-3.203351  (x1 to x5 respectively)\n",
    "# std: 5.146445\t2.672142\t6.579890\t4.065263\t5.270699\n",
    "# 3) What the 25%, 50% and 75% represent?\n",
    "#25% -5.586741\t-3.899259\t-8.267287\t-2.751305\t-7.743645\n",
    "#50% -1.960049\t-2.147778\t3.570971\t3.049842\t-4.529351\n",
    "#75% 0.169195\t4.858645\t4.709415\t2.178987\n",
    "\n",
    "\n"
   ]
  },
  {
   "cell_type": "markdown",
   "metadata": {},
   "source": [
    "Rename the columns using the same name with capital letters"
   ]
  },
  {
   "cell_type": "code",
   "execution_count": 13,
   "metadata": {},
   "outputs": [
    {
     "data": {
      "text/html": [
       "<div>\n",
       "<style scoped>\n",
       "    .dataframe tbody tr th:only-of-type {\n",
       "        vertical-align: middle;\n",
       "    }\n",
       "\n",
       "    .dataframe tbody tr th {\n",
       "        vertical-align: top;\n",
       "    }\n",
       "\n",
       "    .dataframe thead th {\n",
       "        text-align: right;\n",
       "    }\n",
       "</style>\n",
       "<table border=\"1\" class=\"dataframe\">\n",
       "  <thead>\n",
       "    <tr style=\"text-align: right;\">\n",
       "      <th></th>\n",
       "      <th>Unnamed: 0</th>\n",
       "      <th>X1</th>\n",
       "      <th>X2</th>\n",
       "      <th>X3</th>\n",
       "      <th>X4</th>\n",
       "      <th>X5</th>\n",
       "    </tr>\n",
       "  </thead>\n",
       "  <tbody>\n",
       "    <tr>\n",
       "      <th>0</th>\n",
       "      <td>0</td>\n",
       "      <td>-6.152888</td>\n",
       "      <td>-2.093323</td>\n",
       "      <td>8.098046</td>\n",
       "      <td>-2.521610</td>\n",
       "      <td>5.232941</td>\n",
       "    </tr>\n",
       "    <tr>\n",
       "      <th>1</th>\n",
       "      <td>1</td>\n",
       "      <td>-1.370034</td>\n",
       "      <td>0.139201</td>\n",
       "      <td>-9.555028</td>\n",
       "      <td>4.030082</td>\n",
       "      <td>-8.250046</td>\n",
       "    </tr>\n",
       "    <tr>\n",
       "      <th>2</th>\n",
       "      <td>2</td>\n",
       "      <td>-9.371128</td>\n",
       "      <td>-1.980942</td>\n",
       "      <td>6.024231</td>\n",
       "      <td>-4.609001</td>\n",
       "      <td>5.646548</td>\n",
       "    </tr>\n",
       "    <tr>\n",
       "      <th>3</th>\n",
       "      <td>3</td>\n",
       "      <td>-5.885847</td>\n",
       "      <td>-0.049860</td>\n",
       "      <td>6.454661</td>\n",
       "      <td>-5.830751</td>\n",
       "      <td>0.748863</td>\n",
       "    </tr>\n",
       "    <tr>\n",
       "      <th>4</th>\n",
       "      <td>4</td>\n",
       "      <td>-3.134266</td>\n",
       "      <td>-3.060129</td>\n",
       "      <td>-7.498586</td>\n",
       "      <td>3.681397</td>\n",
       "      <td>-9.532923</td>\n",
       "    </tr>\n",
       "  </tbody>\n",
       "</table>\n",
       "</div>"
      ],
      "text/plain": [
       "   Unnamed: 0        X1        X2        X3        X4        X5\n",
       "0           0 -6.152888 -2.093323  8.098046 -2.521610  5.232941\n",
       "1           1 -1.370034  0.139201 -9.555028  4.030082 -8.250046\n",
       "2           2 -9.371128 -1.980942  6.024231 -4.609001  5.646548\n",
       "3           3 -5.885847 -0.049860  6.454661 -5.830751  0.748863\n",
       "4           4 -3.134266 -3.060129 -7.498586  3.681397 -9.532923"
      ]
     },
     "execution_count": 13,
     "metadata": {},
     "output_type": "execute_result"
    }
   ],
   "source": [
    "df1 = df.rename(columns={\"x1\":\"X1\",\"x2\":\"X2\",\"x3\":\"X3\",\"x4\":\"X4\",\"x5\":\"X5\"})\n",
    "df1.head()"
   ]
  },
  {
   "cell_type": "markdown",
   "metadata": {},
   "source": [
    "Rename the columns to their original names"
   ]
  },
  {
   "cell_type": "code",
   "execution_count": 14,
   "metadata": {},
   "outputs": [
    {
     "data": {
      "text/html": [
       "<div>\n",
       "<style scoped>\n",
       "    .dataframe tbody tr th:only-of-type {\n",
       "        vertical-align: middle;\n",
       "    }\n",
       "\n",
       "    .dataframe tbody tr th {\n",
       "        vertical-align: top;\n",
       "    }\n",
       "\n",
       "    .dataframe thead th {\n",
       "        text-align: right;\n",
       "    }\n",
       "</style>\n",
       "<table border=\"1\" class=\"dataframe\">\n",
       "  <thead>\n",
       "    <tr style=\"text-align: right;\">\n",
       "      <th></th>\n",
       "      <th>Unnamed: 0</th>\n",
       "      <th>x1</th>\n",
       "      <th>x2</th>\n",
       "      <th>x3</th>\n",
       "      <th>x4</th>\n",
       "      <th>x5</th>\n",
       "    </tr>\n",
       "  </thead>\n",
       "  <tbody>\n",
       "    <tr>\n",
       "      <th>0</th>\n",
       "      <td>0</td>\n",
       "      <td>-6.152888</td>\n",
       "      <td>-2.093323</td>\n",
       "      <td>8.098046</td>\n",
       "      <td>-2.521610</td>\n",
       "      <td>5.232941</td>\n",
       "    </tr>\n",
       "    <tr>\n",
       "      <th>1</th>\n",
       "      <td>1</td>\n",
       "      <td>-1.370034</td>\n",
       "      <td>0.139201</td>\n",
       "      <td>-9.555028</td>\n",
       "      <td>4.030082</td>\n",
       "      <td>-8.250046</td>\n",
       "    </tr>\n",
       "    <tr>\n",
       "      <th>2</th>\n",
       "      <td>2</td>\n",
       "      <td>-9.371128</td>\n",
       "      <td>-1.980942</td>\n",
       "      <td>6.024231</td>\n",
       "      <td>-4.609001</td>\n",
       "      <td>5.646548</td>\n",
       "    </tr>\n",
       "    <tr>\n",
       "      <th>3</th>\n",
       "      <td>3</td>\n",
       "      <td>-5.885847</td>\n",
       "      <td>-0.049860</td>\n",
       "      <td>6.454661</td>\n",
       "      <td>-5.830751</td>\n",
       "      <td>0.748863</td>\n",
       "    </tr>\n",
       "    <tr>\n",
       "      <th>4</th>\n",
       "      <td>4</td>\n",
       "      <td>-3.134266</td>\n",
       "      <td>-3.060129</td>\n",
       "      <td>-7.498586</td>\n",
       "      <td>3.681397</td>\n",
       "      <td>-9.532923</td>\n",
       "    </tr>\n",
       "  </tbody>\n",
       "</table>\n",
       "</div>"
      ],
      "text/plain": [
       "   Unnamed: 0        x1        x2        x3        x4        x5\n",
       "0           0 -6.152888 -2.093323  8.098046 -2.521610  5.232941\n",
       "1           1 -1.370034  0.139201 -9.555028  4.030082 -8.250046\n",
       "2           2 -9.371128 -1.980942  6.024231 -4.609001  5.646548\n",
       "3           3 -5.885847 -0.049860  6.454661 -5.830751  0.748863\n",
       "4           4 -3.134266 -3.060129 -7.498586  3.681397 -9.532923"
      ]
     },
     "execution_count": 14,
     "metadata": {},
     "output_type": "execute_result"
    }
   ],
   "source": [
    "df.head()"
   ]
  },
  {
   "cell_type": "markdown",
   "metadata": {},
   "source": [
    "Use two different alternatives to get one of the columns"
   ]
  },
  {
   "cell_type": "code",
   "execution_count": 15,
   "metadata": {},
   "outputs": [
    {
     "name": "stdout",
     "output_type": "stream",
     "text": [
      "0     -2.093323\n",
      "1      0.139201\n",
      "2     -1.980942\n",
      "3     -0.049860\n",
      "4     -3.060129\n",
      "         ...   \n",
      "277   -3.901744\n",
      "278   -0.311313\n",
      "279   -4.702272\n",
      "280   -3.502860\n",
      "281   -1.918798\n",
      "Name: x2, Length: 282, dtype: float64\n"
     ]
    }
   ],
   "source": [
    "#b = df[\"x1\"]\n",
    "c = df.loc[:, \"x2\"]\n",
    "\n",
    "#print(b)\n",
    "print(c)"
   ]
  },
  {
   "cell_type": "markdown",
   "metadata": {},
   "source": [
    "Get a slice of your data set: second and thrid columns and rows from 62 to 72"
   ]
  },
  {
   "cell_type": "code",
   "execution_count": 16,
   "metadata": {},
   "outputs": [
    {
     "data": {
      "text/html": [
       "<div>\n",
       "<style scoped>\n",
       "    .dataframe tbody tr th:only-of-type {\n",
       "        vertical-align: middle;\n",
       "    }\n",
       "\n",
       "    .dataframe tbody tr th {\n",
       "        vertical-align: top;\n",
       "    }\n",
       "\n",
       "    .dataframe thead th {\n",
       "        text-align: right;\n",
       "    }\n",
       "</style>\n",
       "<table border=\"1\" class=\"dataframe\">\n",
       "  <thead>\n",
       "    <tr style=\"text-align: right;\">\n",
       "      <th></th>\n",
       "      <th>x2</th>\n",
       "      <th>x3</th>\n",
       "    </tr>\n",
       "  </thead>\n",
       "  <tbody>\n",
       "    <tr>\n",
       "      <th>62</th>\n",
       "      <td>-2.896532</td>\n",
       "      <td>4.319649</td>\n",
       "    </tr>\n",
       "    <tr>\n",
       "      <th>63</th>\n",
       "      <td>-2.079412</td>\n",
       "      <td>4.409067</td>\n",
       "    </tr>\n",
       "    <tr>\n",
       "      <th>64</th>\n",
       "      <td>-3.108458</td>\n",
       "      <td>4.750895</td>\n",
       "    </tr>\n",
       "    <tr>\n",
       "      <th>65</th>\n",
       "      <td>2.929267</td>\n",
       "      <td>-8.615823</td>\n",
       "    </tr>\n",
       "    <tr>\n",
       "      <th>66</th>\n",
       "      <td>-3.265291</td>\n",
       "      <td>6.689069</td>\n",
       "    </tr>\n",
       "    <tr>\n",
       "      <th>67</th>\n",
       "      <td>-2.935715</td>\n",
       "      <td>7.525658</td>\n",
       "    </tr>\n",
       "    <tr>\n",
       "      <th>68</th>\n",
       "      <td>-7.608000</td>\n",
       "      <td>3.203918</td>\n",
       "    </tr>\n",
       "    <tr>\n",
       "      <th>69</th>\n",
       "      <td>-2.816043</td>\n",
       "      <td>4.031515</td>\n",
       "    </tr>\n",
       "    <tr>\n",
       "      <th>70</th>\n",
       "      <td>-4.258522</td>\n",
       "      <td>6.244307</td>\n",
       "    </tr>\n",
       "    <tr>\n",
       "      <th>71</th>\n",
       "      <td>2.483680</td>\n",
       "      <td>-7.754589</td>\n",
       "    </tr>\n",
       "    <tr>\n",
       "      <th>72</th>\n",
       "      <td>1.174520</td>\n",
       "      <td>-9.759044</td>\n",
       "    </tr>\n",
       "  </tbody>\n",
       "</table>\n",
       "</div>"
      ],
      "text/plain": [
       "          x2        x3\n",
       "62 -2.896532  4.319649\n",
       "63 -2.079412  4.409067\n",
       "64 -3.108458  4.750895\n",
       "65  2.929267 -8.615823\n",
       "66 -3.265291  6.689069\n",
       "67 -2.935715  7.525658\n",
       "68 -7.608000  3.203918\n",
       "69 -2.816043  4.031515\n",
       "70 -4.258522  6.244307\n",
       "71  2.483680 -7.754589\n",
       "72  1.174520 -9.759044"
      ]
     },
     "execution_count": 16,
     "metadata": {},
     "output_type": "execute_result"
    }
   ],
   "source": [
    "df.loc[62:72,[\"x2\", \"x3\"]]"
   ]
  },
  {
   "cell_type": "markdown",
   "metadata": {},
   "source": [
    "For the second and thrid columns, calculate the number of null and not null values and verify that their sum equals the total number of rows"
   ]
  },
  {
   "cell_type": "code",
   "execution_count": 17,
   "metadata": {},
   "outputs": [
    {
     "data": {
      "text/plain": [
       "0"
      ]
     },
     "execution_count": 17,
     "metadata": {},
     "output_type": "execute_result"
    }
   ],
   "source": [
    "b = df[\"x2\"]\n",
    "b.isnull().sum()\n",
    "#b.notnull().sum()\n"
   ]
  },
  {
   "cell_type": "code",
   "execution_count": 18,
   "metadata": {},
   "outputs": [
    {
     "data": {
      "text/plain": [
       "0"
      ]
     },
     "execution_count": 18,
     "metadata": {},
     "output_type": "execute_result"
    }
   ],
   "source": [
    "c = df[\"x3\"]\n",
    "c.isnull().sum()\n",
    "#c.notnull().sum()"
   ]
  },
  {
   "cell_type": "markdown",
   "metadata": {},
   "source": [
    "Discard the last column\n"
   ]
  },
  {
   "cell_type": "code",
   "execution_count": 19,
   "metadata": {},
   "outputs": [
    {
     "data": {
      "text/html": [
       "<div>\n",
       "<style scoped>\n",
       "    .dataframe tbody tr th:only-of-type {\n",
       "        vertical-align: middle;\n",
       "    }\n",
       "\n",
       "    .dataframe tbody tr th {\n",
       "        vertical-align: top;\n",
       "    }\n",
       "\n",
       "    .dataframe thead th {\n",
       "        text-align: right;\n",
       "    }\n",
       "</style>\n",
       "<table border=\"1\" class=\"dataframe\">\n",
       "  <thead>\n",
       "    <tr style=\"text-align: right;\">\n",
       "      <th></th>\n",
       "      <th>Unnamed: 0</th>\n",
       "      <th>x1</th>\n",
       "      <th>x2</th>\n",
       "      <th>x3</th>\n",
       "      <th>x4</th>\n",
       "    </tr>\n",
       "  </thead>\n",
       "  <tbody>\n",
       "    <tr>\n",
       "      <th>0</th>\n",
       "      <td>0</td>\n",
       "      <td>-6.152888</td>\n",
       "      <td>-2.093323</td>\n",
       "      <td>8.098046</td>\n",
       "      <td>-2.521610</td>\n",
       "    </tr>\n",
       "    <tr>\n",
       "      <th>1</th>\n",
       "      <td>1</td>\n",
       "      <td>-1.370034</td>\n",
       "      <td>0.139201</td>\n",
       "      <td>-9.555028</td>\n",
       "      <td>4.030082</td>\n",
       "    </tr>\n",
       "    <tr>\n",
       "      <th>2</th>\n",
       "      <td>2</td>\n",
       "      <td>-9.371128</td>\n",
       "      <td>-1.980942</td>\n",
       "      <td>6.024231</td>\n",
       "      <td>-4.609001</td>\n",
       "    </tr>\n",
       "    <tr>\n",
       "      <th>3</th>\n",
       "      <td>3</td>\n",
       "      <td>-5.885847</td>\n",
       "      <td>-0.049860</td>\n",
       "      <td>6.454661</td>\n",
       "      <td>-5.830751</td>\n",
       "    </tr>\n",
       "    <tr>\n",
       "      <th>4</th>\n",
       "      <td>4</td>\n",
       "      <td>-3.134266</td>\n",
       "      <td>-3.060129</td>\n",
       "      <td>-7.498586</td>\n",
       "      <td>3.681397</td>\n",
       "    </tr>\n",
       "  </tbody>\n",
       "</table>\n",
       "</div>"
      ],
      "text/plain": [
       "   Unnamed: 0        x1        x2        x3        x4\n",
       "0           0 -6.152888 -2.093323  8.098046 -2.521610\n",
       "1           1 -1.370034  0.139201 -9.555028  4.030082\n",
       "2           2 -9.371128 -1.980942  6.024231 -4.609001\n",
       "3           3 -5.885847 -0.049860  6.454661 -5.830751\n",
       "4           4 -3.134266 -3.060129 -7.498586  3.681397"
      ]
     },
     "execution_count": 19,
     "metadata": {},
     "output_type": "execute_result"
    }
   ],
   "source": [
    "df.drop(\"x5\", axis=1, inplace = True)\n",
    "df.head()\n"
   ]
  },
  {
   "cell_type": "markdown",
   "metadata": {},
   "source": [
    "### Questions \n",
    "\n",
    "Based on the previos results, provide a description of yout dataset\n",
    "\n",
    "Your response: the previous results in the dataset seems to be points in cartesian plane.\n",
    "\n",
    "\n"
   ]
  },
  {
   "cell_type": "markdown",
   "metadata": {},
   "source": [
    "# A3 Data visualization"
   ]
  },
  {
   "cell_type": "markdown",
   "metadata": {},
   "source": [
    "Plot in the same figure the histogram of the two variables"
   ]
  },
  {
   "cell_type": "code",
   "execution_count": 27,
   "metadata": {},
   "outputs": [
    {
     "name": "stderr",
     "output_type": "stream",
     "text": [
      "/home/ivansotomayor/anaconda3/lib/python3.8/site-packages/seaborn/distributions.py:2557: FutureWarning: `distplot` is a deprecated function and will be removed in a future version. Please adapt your code to use either `displot` (a figure-level function with similar flexibility) or `histplot` (an axes-level function for histograms).\n",
      "  warnings.warn(msg, FutureWarning)\n"
     ]
    },
    {
     "data": {
      "image/png": "[encoded data removed]",
      "text/plain": [
       "<Figure size 432x288 with 1 Axes>"
      ]
     },
     "metadata": {
      "needs_background": "light"
     },
     "output_type": "display_data"
    }
   ],
   "source": [
    "x = sns.distplot(df[\"x3\"], kde=False)\n",
    "x.set_ylabel(\"x3\")\n",
    "x.set_title(\"Histograma de x3 y x4\")\n",
    "plt.show()"
   ]
  },
  {
   "cell_type": "markdown",
   "metadata": {},
   "source": [
    "Based on this plots, provide a description of your data:\n",
    "\n",
    "Your response here: All the rows and columns looks like they are p"
   ]
  },
  {
   "cell_type": "markdown",
   "metadata": {},
   "source": [
    "Plot in the same figure the boxplot of the two variables "
   ]
  },
  {
   "cell_type": "code",
   "execution_count": 28,
   "metadata": {},
   "outputs": [
    {
     "data": {
      "text/plain": [
       "<AxesSubplot:>"
      ]
     },
     "execution_count": 28,
     "metadata": {},
     "output_type": "execute_result"
    },
    {
     "data": {
      "image/png": "[encoded data removed]",
      "text/plain": [
       "<Figure size 432x288 with 1 Axes>"
      ]
     },
     "metadata": {
      "needs_background": "light"
     },
     "output_type": "display_data"
    }
   ],
   "source": [
    "xdata = df.loc[:,[\"x3\",\"x4\"]]\n",
    "sns.boxplot(data=xdata, orient=\"v\")"
   ]
  },
  {
   "cell_type": "markdown",
   "metadata": {},
   "source": [
    "Scatter plot of the two variables"
   ]
  },
  {
   "cell_type": "code",
   "execution_count": 29,
   "metadata": {},
   "outputs": [
    {
     "data": {
      "image/png": "[encoded data removed]",
      "text/plain": [
       "<Figure size 432x288 with 1 Axes>"
      ]
     },
     "metadata": {
      "needs_background": "light"
     },
     "output_type": "display_data"
    }
   ],
   "source": [
    "sns.scatterplot(data=df, x= \"x3\", y=\"x4\")\n",
    "plt.show()\n"
   ]
  },
  {
   "cell_type": "markdown",
   "metadata": {},
   "source": [
    "### Questions \n",
    "\n",
    "Based on the previos plots, provide a description of yout dataset\n",
    "\n",
    "Your response:\n",
    "\n",
    "\n"
   ]
  },
  {
   "cell_type": "markdown",
   "metadata": {},
   "source": [
    "# A4 Kmeans"
   ]
  },
  {
   "cell_type": "markdown",
   "metadata": {},
   "source": [
    "Do Kmeans clustering assuming a number of clusters accorging to your scatter plot"
   ]
  },
  {
   "cell_type": "code",
   "execution_count": 71,
   "metadata": {},
   "outputs": [
    {
     "data": {
      "text/plain": [
       "array([2, 0, 2, 2, 0, 1, 1, 0, 0, 1, 1, 2, 0, 2, 0, 1, 1, 1, 1, 1, 1, 2,\n",
       "       2, 1, 0, 0, 0, 2, 2, 1, 1, 0, 1, 1, 1, 1, 2, 2, 1, 1, 2, 2, 1, 1,\n",
       "       0, 1, 0, 1, 2, 1, 2, 2, 0, 1, 0, 2, 1, 1, 0, 1, 2, 0, 1, 2, 1, 0,\n",
       "       2, 1, 1, 2, 1, 0, 0, 1, 2, 1, 1, 1, 2, 1, 0, 0, 2, 0, 1, 0, 0, 0,\n",
       "       1, 2, 2, 1, 2, 0, 2, 1, 0, 2, 2, 0, 2, 2, 1, 0, 0, 1, 2, 2, 1, 0,\n",
       "       2, 2, 0, 0, 0, 1, 1, 2, 1, 2, 1, 2, 0, 0, 1, 0, 1, 0, 0, 2, 1, 0,\n",
       "       1, 1, 2, 2, 0, 2, 0, 1, 2, 2, 0, 1, 0, 2, 0, 0, 0, 0, 0, 0, 2, 1,\n",
       "       2, 1, 0, 2, 0, 2, 0, 2, 0, 1, 1, 1, 0, 1, 2, 0, 0, 1, 0, 2, 0, 2,\n",
       "       0, 0, 0, 1, 0, 1, 0, 1, 2, 1, 0, 0, 1, 2, 1, 2, 0, 1, 2, 2, 2, 1,\n",
       "       0, 0, 1, 2, 0, 0, 2, 0, 2, 2, 0, 1, 0, 2, 0, 0, 2, 1, 2, 2, 2, 2,\n",
       "       1, 2, 2, 0, 2, 0, 1, 2, 1, 1, 0, 2, 0, 2, 0, 0, 2, 0, 2, 2, 0, 0,\n",
       "       1, 2, 0, 2, 1, 1, 2, 0, 1, 0, 2, 2, 2, 0, 0, 1, 1, 0, 1, 0, 2, 2,\n",
       "       2, 0, 2, 2, 1, 1, 2, 1, 2, 1, 1, 1, 2, 1, 0, 1, 1, 2], dtype=int32)"
      ]
     },
     "execution_count": 71,
     "metadata": {},
     "output_type": "execute_result"
    }
   ],
   "source": [
    "from sklearn.cluster import KMeans\n",
    "km = KMeans(n_clusters=3)\n",
    "yp = km.fit_predict(df[['x1','x3','x4']])\n",
    "yp"
   ]
  },
  {
   "cell_type": "markdown",
   "metadata": {},
   "source": [
    "Add to your dataset a column with the assihned cluster to each data point"
   ]
  },
  {
   "cell_type": "code",
   "execution_count": 72,
   "metadata": {},
   "outputs": [],
   "source": [
    "df['Cluster1'] = yp"
   ]
  },
  {
   "cell_type": "markdown",
   "metadata": {},
   "source": [
    "Print the number associated to each cluster"
   ]
  },
  {
   "cell_type": "code",
   "execution_count": 73,
   "metadata": {
    "scrolled": false
   },
   "outputs": [
    {
     "data": {
      "text/html": [
       "<div>\n",
       "<style scoped>\n",
       "    .dataframe tbody tr th:only-of-type {\n",
       "        vertical-align: middle;\n",
       "    }\n",
       "\n",
       "    .dataframe tbody tr th {\n",
       "        vertical-align: top;\n",
       "    }\n",
       "\n",
       "    .dataframe thead th {\n",
       "        text-align: right;\n",
       "    }\n",
       "</style>\n",
       "<table border=\"1\" class=\"dataframe\">\n",
       "  <thead>\n",
       "    <tr style=\"text-align: right;\">\n",
       "      <th></th>\n",
       "      <th>Unnamed: 0</th>\n",
       "      <th>x1</th>\n",
       "      <th>x2</th>\n",
       "      <th>x3</th>\n",
       "      <th>x4</th>\n",
       "      <th>Cluster1</th>\n",
       "    </tr>\n",
       "  </thead>\n",
       "  <tbody>\n",
       "    <tr>\n",
       "      <th>0</th>\n",
       "      <td>0</td>\n",
       "      <td>-6.152888</td>\n",
       "      <td>-2.093323</td>\n",
       "      <td>8.098046</td>\n",
       "      <td>-2.521610</td>\n",
       "      <td>2</td>\n",
       "    </tr>\n",
       "    <tr>\n",
       "      <th>1</th>\n",
       "      <td>1</td>\n",
       "      <td>-1.370034</td>\n",
       "      <td>0.139201</td>\n",
       "      <td>-9.555028</td>\n",
       "      <td>4.030082</td>\n",
       "      <td>0</td>\n",
       "    </tr>\n",
       "    <tr>\n",
       "      <th>2</th>\n",
       "      <td>2</td>\n",
       "      <td>-9.371128</td>\n",
       "      <td>-1.980942</td>\n",
       "      <td>6.024231</td>\n",
       "      <td>-4.609001</td>\n",
       "      <td>2</td>\n",
       "    </tr>\n",
       "    <tr>\n",
       "      <th>3</th>\n",
       "      <td>3</td>\n",
       "      <td>-5.885847</td>\n",
       "      <td>-0.049860</td>\n",
       "      <td>6.454661</td>\n",
       "      <td>-5.830751</td>\n",
       "      <td>2</td>\n",
       "    </tr>\n",
       "    <tr>\n",
       "      <th>4</th>\n",
       "      <td>4</td>\n",
       "      <td>-3.134266</td>\n",
       "      <td>-3.060129</td>\n",
       "      <td>-7.498586</td>\n",
       "      <td>3.681397</td>\n",
       "      <td>0</td>\n",
       "    </tr>\n",
       "    <tr>\n",
       "      <th>...</th>\n",
       "      <td>...</td>\n",
       "      <td>...</td>\n",
       "      <td>...</td>\n",
       "      <td>...</td>\n",
       "      <td>...</td>\n",
       "      <td>...</td>\n",
       "    </tr>\n",
       "    <tr>\n",
       "      <th>277</th>\n",
       "      <td>277</td>\n",
       "      <td>4.549812</td>\n",
       "      <td>-3.901744</td>\n",
       "      <td>5.422231</td>\n",
       "      <td>5.317769</td>\n",
       "      <td>1</td>\n",
       "    </tr>\n",
       "    <tr>\n",
       "      <th>278</th>\n",
       "      <td>278</td>\n",
       "      <td>-0.877046</td>\n",
       "      <td>-0.311313</td>\n",
       "      <td>-11.797155</td>\n",
       "      <td>5.241113</td>\n",
       "      <td>0</td>\n",
       "    </tr>\n",
       "    <tr>\n",
       "      <th>279</th>\n",
       "      <td>279</td>\n",
       "      <td>6.847237</td>\n",
       "      <td>-4.702272</td>\n",
       "      <td>3.577630</td>\n",
       "      <td>4.157979</td>\n",
       "      <td>1</td>\n",
       "    </tr>\n",
       "    <tr>\n",
       "      <th>280</th>\n",
       "      <td>280</td>\n",
       "      <td>5.634250</td>\n",
       "      <td>-3.502860</td>\n",
       "      <td>3.107812</td>\n",
       "      <td>3.987307</td>\n",
       "      <td>1</td>\n",
       "    </tr>\n",
       "    <tr>\n",
       "      <th>281</th>\n",
       "      <td>281</td>\n",
       "      <td>-7.070032</td>\n",
       "      <td>-1.918798</td>\n",
       "      <td>4.520942</td>\n",
       "      <td>-4.784511</td>\n",
       "      <td>2</td>\n",
       "    </tr>\n",
       "  </tbody>\n",
       "</table>\n",
       "<p>282 rows × 6 columns</p>\n",
       "</div>"
      ],
      "text/plain": [
       "     Unnamed: 0        x1        x2         x3        x4  Cluster1\n",
       "0             0 -6.152888 -2.093323   8.098046 -2.521610         2\n",
       "1             1 -1.370034  0.139201  -9.555028  4.030082         0\n",
       "2             2 -9.371128 -1.980942   6.024231 -4.609001         2\n",
       "3             3 -5.885847 -0.049860   6.454661 -5.830751         2\n",
       "4             4 -3.134266 -3.060129  -7.498586  3.681397         0\n",
       "..          ...       ...       ...        ...       ...       ...\n",
       "277         277  4.549812 -3.901744   5.422231  5.317769         1\n",
       "278         278 -0.877046 -0.311313 -11.797155  5.241113         0\n",
       "279         279  6.847237 -4.702272   3.577630  4.157979         1\n",
       "280         280  5.634250 -3.502860   3.107812  3.987307         1\n",
       "281         281 -7.070032 -1.918798   4.520942 -4.784511         2\n",
       "\n",
       "[282 rows x 6 columns]"
      ]
     },
     "execution_count": 73,
     "metadata": {},
     "output_type": "execute_result"
    }
   ],
   "source": [
    "df"
   ]
  },
  {
   "cell_type": "markdown",
   "metadata": {},
   "source": [
    "Print the centroids"
   ]
  },
  {
   "cell_type": "code",
   "execution_count": 74,
   "metadata": {},
   "outputs": [
    {
     "data": {
      "text/plain": [
       "array([[-1.84714282, -9.12104422,  3.46899453],\n",
       "       [ 5.17840727,  4.16583926,  4.93145794],\n",
       "       [-6.76753691,  4.78575527, -3.69104122]])"
      ]
     },
     "execution_count": 74,
     "metadata": {},
     "output_type": "execute_result"
    }
   ],
   "source": [
    "km.cluster_centers_"
   ]
  },
  {
   "cell_type": "markdown",
   "metadata": {},
   "source": [
    "Print the intertia metric"
   ]
  },
  {
   "cell_type": "code",
   "execution_count": 75,
   "metadata": {},
   "outputs": [
    {
     "data": {
      "text/plain": [
       "1869.323171692451"
      ]
     },
     "execution_count": 75,
     "metadata": {},
     "output_type": "execute_result"
    }
   ],
   "source": [
    "km.inertia_"
   ]
  },
  {
   "cell_type": "markdown",
   "metadata": {},
   "source": [
    "Plot a scatter plot of your data assigned to each cluster. Also plot the centroids"
   ]
  },
  {
   "cell_type": "code",
   "execution_count": 78,
   "metadata": {},
   "outputs": [
    {
     "name": "stderr",
     "output_type": "stream",
     "text": [
      "/home/ivansotomayor/anaconda3/lib/python3.8/site-packages/matplotlib/collections.py:922: RuntimeWarning: invalid value encountered in sqrt\n",
      "  scale = np.sqrt(self._sizes) * dpi / 72.0 * self._factor\n",
      "<ipython-input-78-f1f63d8935d5>:6: MatplotlibDeprecationWarning: Case-insensitive properties were deprecated in 3.3 and support will be removed two minor releases later\n",
      "  plt.scatter(df1.x1,df1.x3, df1.x4, Label='Group x1')\n",
      "<ipython-input-78-f1f63d8935d5>:7: MatplotlibDeprecationWarning: Case-insensitive properties were deprecated in 3.3 and support will be removed two minor releases later\n",
      "  plt.scatter(df2.x1,df2.x3, df2.x4, Label='Group x3')\n",
      "<ipython-input-78-f1f63d8935d5>:8: MatplotlibDeprecationWarning: Case-insensitive properties were deprecated in 3.3 and support will be removed two minor releases later\n",
      "  plt.scatter(df3.x1,df3.x3, df2.x4, Label='Group x3')\n"
     ]
    },
    {
     "data": {
      "text/plain": [
       "<matplotlib.collections.PathCollection at 0x7fb09ec2c9a0>"
      ]
     },
     "execution_count": 78,
     "metadata": {},
     "output_type": "execute_result"
    },
    {
     "data": {
      "image/png": "[encoded data removed]",
      "text/plain": [
       "<Figure size 432x288 with 1 Axes>"
      ]
     },
     "metadata": {
      "needs_background": "light"
     },
     "output_type": "display_data"
    }
   ],
   "source": [
    "df1 = df[df.Cluster1==0]\n",
    "df2 = df[df.Cluster1==1]\n",
    "df3 = df[df.Cluster1==2]\n",
    "\n",
    "\n",
    "plt.scatter(df1.x1,df1.x3, df1.x4, Label='Group x1')\n",
    "plt.scatter(df2.x1,df2.x3, df2.x4, Label='Group x3')\n",
    "plt.scatter(df3.x1,df3.x3, df2.x4, Label='Group x3')\n",
    "\n",
    "\n",
    "\n",
    "plt.scatter(km.cluster_centers_[:,0], km.cluster_centers_[:,1], color='magenta', marker='*', label='Centroides', s=256)\n"
   ]
  },
  {
   "cell_type": "markdown",
   "metadata": {},
   "source": [
    "### Questions \n",
    "\n",
    "Provides a detailed description of your results\n",
    "\n",
    "Your response: In the graph above we can see that all the points tend to be near those 3 centroids."
   ]
  },
  {
   "cell_type": "markdown",
   "metadata": {},
   "source": [
    "# A4 Elbow plot\n",
    "\n",
    "Compute the Elbow plot"
   ]
  },
  {
   "cell_type": "code",
   "execution_count": 80,
   "metadata": {},
   "outputs": [],
   "source": [
    "sse = []\n",
    "k_rng = range(1,10)\n",
    "for k in k_rng:\n",
    "    km = KMeans(n_clusters=k)\n",
    "    km.fit_predict(df[['x1','x2','x3']])\n",
    "    sse.append(km.inertia_)"
   ]
  },
  {
   "cell_type": "code",
   "execution_count": 81,
   "metadata": {},
   "outputs": [
    {
     "data": {
      "image/png": "[encoded data removed]",
      "text/plain": [
       "<Figure size 432x288 with 1 Axes>"
      ]
     },
     "metadata": {
      "needs_background": "light"
     },
     "output_type": "display_data"
    }
   ],
   "source": [
    "plt.plot(k_rng,sse)\n",
    "\n",
    "plt.title('Elbow plot')\n",
    "plt.xlabel('K')\n",
    "plt.ylabel('Sum of squared error')\n",
    "plt.show()"
   ]
  },
  {
   "cell_type": "markdown",
   "metadata": {},
   "source": [
    "### Questions \n",
    "\n",
    "What is the best number of clusters K? (argue your response)\n",
    "\n",
    "Your response: the best number of clusters k are 3, if we see the elbow plot the sum of sqaured error decrease significantly when K = 3\n",
    "\n",
    "\n",
    "Does this number of clusters agree with your inital guess? (argue your response)\n",
    "\n",
    "Your response: Yes because in the scatter plot we can visual identify where the clusters would be.\n",
    "\n"
   ]
  },
  {
   "cell_type": "markdown",
   "metadata": {},
   "source": [
    "# BONUS"
   ]
  },
  {
   "cell_type": "markdown",
   "metadata": {},
   "source": [
    "1) Generate some data using the \"make_blobs\" function from \"sklearn.datasets\"\n",
    "\n",
    "- The number of observations is equal to the three last digits in your ID\n",
    "\n",
    "- 2 variables\n",
    "\n",
    "- 4 clusters\n",
    "\n",
    "- Standar deviation of each cluster of 1.5\n",
    "\n"
   ]
  },
  {
   "cell_type": "code",
   "execution_count": null,
   "metadata": {},
   "outputs": [],
   "source": []
  },
  {
   "cell_type": "markdown",
   "metadata": {},
   "source": [
    "2) Plot the scatter plot of your data using the real cluster labels"
   ]
  },
  {
   "cell_type": "code",
   "execution_count": null,
   "metadata": {},
   "outputs": [],
   "source": []
  },
  {
   "cell_type": "markdown",
   "metadata": {},
   "source": [
    "3) Do K means clustering "
   ]
  },
  {
   "cell_type": "code",
   "execution_count": null,
   "metadata": {},
   "outputs": [],
   "source": []
  },
  {
   "cell_type": "markdown",
   "metadata": {},
   "source": [
    "4) Plot the scatter plot of your data using the estimated cluster labels"
   ]
  },
  {
   "cell_type": "code",
   "execution_count": null,
   "metadata": {},
   "outputs": [],
   "source": []
  },
  {
   "cell_type": "markdown",
   "metadata": {},
   "source": [
    "### Questions \n",
    "\n",
    "Provides a detailed description of your results.\n",
    "\n",
    "Your response:"
   ]
  },
  {
   "cell_type": "markdown",
   "metadata": {},
   "source": [
    "# Descipcion de tu percepcion del nivel de desarrollo de la subcompetencia \n",
    "\n",
    "### SING0202A Interpretación de variables\n"
   ]
  },
  {
   "cell_type": "markdown",
   "metadata": {},
   "source": [
    "Escribe tu description del nivel de logro del siguiente criterio de la subcompetencia\n",
    "\n",
    "**Interpreta interacciones**. Interpreta interacciones entre variables relevantes en un problema, como base para la construcción de modelos bivariados basados en datos de un fenómeno investigado que le permita reproducir la respuesta del mismo."
   ]
  },
  {
   "cell_type": "markdown",
   "metadata": {},
   "source": [
    "Tu respuesta: With this activity I have developed strong habilites to identifiy patterns in data using an unsupervised algorithm called clustering using k-means. This algorithm help me to segment similar data and group them by atributtes."
   ]
  },
  {
   "cell_type": "markdown",
   "metadata": {},
   "source": [
    "Escribe tu description del nivel de logro del siguiente criterio de la subcompetencia\n",
    "\n",
    "**Construcción de modelos**. Es capaz de construir modelos bivariados que expliquen el comportamiento de un fenómeno."
   ]
  },
  {
   "cell_type": "markdown",
   "metadata": {},
   "source": [
    "Tu respuesta: As we can see in the scatter plots and also the elbow plot, 3 k means are more than enough to group the data in clusters."
   ]
  },
  {
   "cell_type": "code",
   "execution_count": null,
   "metadata": {},
   "outputs": [],
   "source": []
  }
 ],
 "metadata": {
  "kernelspec": {
   "display_name": "Python 3",
   "language": "python",
   "name": "python3"
  },
  "language_info": {
   "codemirror_mode": {
    "name": "ipython",
    "version": 3
   },
   "file_extension": ".py",
   "mimetype": "text/x-python",
   "name": "python",
   "nbconvert_exporter": "python",
   "pygments_lexer": "ipython3",
   "version": "3.8.8"
  }
 },
 "nbformat": 4,
 "nbformat_minor": 2
}
